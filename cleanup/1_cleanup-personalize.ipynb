{
 "cells": [
  {
   "attachments": {},
   "cell_type": "markdown",
   "id": "df50504b-9d55-47f9-bdd0-9a14338d9ed7",
   "metadata": {},
   "source": [
    "# Delete the Personalize resource\n",
    "\n",
    "After completing Workshop, you can delete the campaign, solution and dataset.\n",
    "\n",
    "## Import the library and connect to AWS\n",
    "\n",
    "The code cell below imports all required libraries and connects them to Amazon Personalize."
   ]
  },
  {
   "cell_type": "code",
   "execution_count": null,
   "id": "973d7e56-8f9a-400d-bd0b-d743ca2234a5",
   "metadata": {},
   "outputs": [],
   "source": [
    "# Imports\n",
    "import boto3\n",
    "import time\n",
    "import sagemaker"
   ]
  },
  {
   "cell_type": "code",
   "execution_count": null,
   "id": "df7c6235-f01b-4543-84a9-e95974c7ed48",
   "metadata": {},
   "outputs": [],
   "source": [
    "# Configure the SDK to Personalize:\n",
    "personalize = boto3.client('personalize')\n",
    "personalize_runtime = boto3.client('personalize-runtime')\n",
    "sagemaker_session  = sagemaker.session.Session()\n",
    "role = sagemaker.get_execution_role()\n",
    "bucket = sagemaker.session.Session().default_bucket()"
   ]
  },
  {
   "cell_type": "code",
   "execution_count": null,
   "id": "33f0273a-0396-4967-9714-58d5c487b940",
   "metadata": {},
   "outputs": [],
   "source": [
    "%store -r"
   ]
  },
  {
   "attachments": {},
   "cell_type": "markdown",
   "id": "7a147353-1ae8-4252-905e-1dc3ec127f4e",
   "metadata": {},
   "source": [
    "# 1. Delete Campaign"
   ]
  },
  {
   "cell_type": "code",
   "execution_count": null,
   "id": "62a79a27-bcdc-456d-b5c0-3d1d589db68a",
   "metadata": {},
   "outputs": [],
   "source": [
    "# Delete the campaign:\n",
    "personalize.delete_campaign(campaignArn=campaign_arn)\n",
    "\n",
    "time.sleep(330)"
   ]
  },
  {
   "attachments": {},
   "cell_type": "markdown",
   "id": "08d9d7b4-48bd-433f-9433-556cd1f0f01f",
   "metadata": {},
   "source": [
    "# 2. Delete Solution"
   ]
  },
  {
   "cell_type": "code",
   "execution_count": null,
   "id": "e2fc1ac7-2c51-4e07-9544-477d23d7ce99",
   "metadata": {},
   "outputs": [],
   "source": [
    "# Delete the Solution:\n",
    "personalize.delete_solution(solutionArn=solution_arn)\n",
    "\n",
    "time.sleep(100)"
   ]
  },
  {
   "attachments": {},
   "cell_type": "markdown",
   "id": "c3c42105-cc88-4007-8bb9-9c2b45d0af8d",
   "metadata": {},
   "source": [
    "# 3. Delete dataset (Interactions, Users, Items)"
   ]
  },
  {
   "cell_type": "code",
   "execution_count": null,
   "id": "fed3b5b0-60b7-4d7d-a726-81e51445e7f7",
   "metadata": {},
   "outputs": [],
   "source": [
    "# Delete the interaction dataset\n",
    "personalize.delete_dataset(datasetArn=interaction_dataset_arn)\n",
    "personalize.delete_dataset(datasetArn=item_dataset_arn)\n",
    "personalize.delete_dataset(datasetArn=user_dataset_arn)\n",
    "\n",
    "\n",
    "time.sleep(60)"
   ]
  },
  {
   "attachments": {},
   "cell_type": "markdown",
   "id": "553e7638-ab08-4e72-8470-4012d71c9e23",
   "metadata": {},
   "source": [
    "# 4. Delete Schema"
   ]
  },
  {
   "cell_type": "code",
   "execution_count": null,
   "id": "253e4b3a-0732-40e9-bd69-bd0ae295d401",
   "metadata": {},
   "outputs": [],
   "source": [
    "# Delete the schema\n",
    "personalize.delete_schema(schemaArn=interaction_schema_arn)\n",
    "personalize.delete_schema(schemaArn=item_schema_arn)\n",
    "personalize.delete_schema(schemaArn=user_schema_arn)"
   ]
  },
  {
   "attachments": {},
   "cell_type": "markdown",
   "id": "5ef178f2-9fc1-4b6a-9c52-a75cfbe61c1e",
   "metadata": {},
   "source": [
    "## 5. Delete Dataset Group"
   ]
  },
  {
   "cell_type": "code",
   "execution_count": null,
   "id": "1b5abf9a-f744-42db-b00a-b42a93ea6d32",
   "metadata": {},
   "outputs": [],
   "source": [
    "# Delete the DatasetGroup\n",
    "personalize.delete_dataset_group(\n",
    "    datasetGroupArn=dataset_group_arn\n",
    ")\n",
    "\n",
    "\n",
    "time.sleep(20)"
   ]
  },
  {
   "attachments": {},
   "cell_type": "markdown",
   "id": "f4191ce8-9e49-4504-8820-fc8a1ed17266",
   "metadata": {},
   "source": [
    "# 6. Delete S3 files(csv)"
   ]
  },
  {
   "cell_type": "code",
   "execution_count": null,
   "id": "859a0bd3-e3ed-4736-bc99-d88e9692126b",
   "metadata": {},
   "outputs": [],
   "source": [
    "s3_path = \"s3://{}/{}/\".format(bucket, 'dataset')\n",
    "\n",
    "! aws s3 rm {s3_path} --recursive"
   ]
  }
 ],
 "metadata": {
  "kernelspec": {
   "display_name": "conda_python3",
   "language": "python",
   "name": "conda_python3"
  },
  "language_info": {
   "codemirror_mode": {
    "name": "ipython",
    "version": 3
   },
   "file_extension": ".py",
   "mimetype": "text/x-python",
   "name": "python",
   "nbconvert_exporter": "python",
   "pygments_lexer": "ipython3",
   "version": "3.10.6"
  }
 },
 "nbformat": 4,
 "nbformat_minor": 5
}
