{
 "cells": [
  {
   "cell_type": "markdown",
   "id": "27cc3268-2230-48d3-b79f-6c9e51ca0b3a",
   "metadata": {},
   "source": [
    "# Amazon Personalize Campaign 배포\n",
    "\n",
    "이 노트북은 기본 커널을 conda_python3를 사용합니다.\n",
    "<br>\n",
    "처음부터 순차적으로 끝까지 실행하여 Personalize Campaign이 배포 합니다."
   ]
  },
  {
   "cell_type": "markdown",
   "id": "9c13c5b0-79c5-41da-adb6-7ae09801f2fd",
   "metadata": {},
   "source": [
    "## 0. 환경 셋업\n",
    "\n",
    "필요시 boto3 sdk 업그레이드를 실행 합니다.\n"
   ]
  },
  {
   "cell_type": "markdown",
   "id": "1c9244fa-ffd9-4f35-acdc-e42fef9e59f5",
   "metadata": {},
   "source": [
    "### boto3 업그레이드"
   ]
  },
  {
   "cell_type": "code",
   "execution_count": null,
   "id": "cf7d9b34-7f86-4704-b6cb-d94c48e070a1",
   "metadata": {},
   "outputs": [],
   "source": [
    "# !pip install boto3 --upgrade"
   ]
  },
  {
   "cell_type": "markdown",
   "id": "1924cfee-75b2-476d-9643-57e66658f97e",
   "metadata": {},
   "source": [
    "## 1. 데이터 준비\n",
    "\n",
    "아래의 Git에서 인공적으로 생성된 데이터 세트를 사용 함.\n",
    "- 생선데 데이터 세트를 tar 로 압축하여 현재의 git 에 저장 했습니다. 이를 압축해제 해서 사용합니다.\n",
    "\n",
    "* Retail Demo Store\n",
    "    * https://github.com/aws-samples/retail-demo-store"
   ]
  },
  {
   "cell_type": "code",
   "execution_count": null,
   "id": "c60d64e7-8e20-4f3b-8d0d-1bcee84f6ce8",
   "metadata": {},
   "outputs": [],
   "source": [
    "import tarfile\n",
    "\n",
    "tf = tarfile.open(\"../data/RetailDemoDataSet.tar\")\n",
    "tf.extractall(\"../data\")"
   ]
  },
  {
   "cell_type": "code",
   "execution_count": null,
   "id": "3a1d0139-ecc3-441e-ac33-db41c31331a5",
   "metadata": {},
   "outputs": [],
   "source": [
    "import pandas as pd\n",
    "\n",
    "items = pd.read_csv('../data/items.csv')\n",
    "users = pd.read_csv('../data/users.csv')\n",
    "its = pd.read_csv('../data/interactions.csv')"
   ]
  },
  {
   "cell_type": "markdown",
   "id": "29301bf4-7676-4c7f-9c4a-eb370080e356",
   "metadata": {},
   "source": [
    "## 2. 데이터 전처리"
   ]
  },
  {
   "cell_type": "code",
   "execution_count": null,
   "id": "c27d6f3a-56a8-47b8-af11-fc7a294cee98",
   "metadata": {},
   "outputs": [],
   "source": [
    "import boto3\n",
    "import json\n",
    "import numpy as np\n",
    "import pandas as pd\n",
    "import time\n",
    "from datetime import datetime\n",
    "\n",
    "import matplotlib.pyplot as plt"
   ]
  },
  {
   "cell_type": "markdown",
   "id": "79adaf49-ffb2-4325-973e-ca1de224f9b5",
   "metadata": {},
   "source": [
    "### Items 컬럼 조정"
   ]
  },
  {
   "cell_type": "code",
   "execution_count": null,
   "id": "4944e7d6-9673-4a6f-9915-c9ab2ce8176d",
   "metadata": {},
   "outputs": [],
   "source": [
    "items.columns"
   ]
  },
  {
   "cell_type": "code",
   "execution_count": null,
   "id": "77efc9af-0c84-4570-b666-264908faf406",
   "metadata": {},
   "outputs": [],
   "source": [
    "def item_data_selection(df, cols):\n",
    "    ldf = df[cols]\n",
    "    ldf = ldf.rename(columns={'id':'ITEM_ID',\n",
    "                              'name' : 'NAME',\n",
    "                              'category' :'CATEGORY_L1',\n",
    "                              'style' : 'STYLE',\n",
    "                              'description' : 'PRODUCT_DESCRIPTION',\n",
    "                              'price' : 'PRICE',\n",
    "                             })\n",
    "    return ldf\n",
    "\n",
    "\n",
    "item_cols = ['id', 'name', 'category', 'style', 'description','price']\n",
    "items_df = item_data_selection(items, item_cols)    \n",
    "\n",
    "items_df.head(3)"
   ]
  },
  {
   "cell_type": "markdown",
   "id": "5fb2d4d3-ba76-49d8-ae57-bd3449866899",
   "metadata": {},
   "source": [
    "### Users 컬럼 조정"
   ]
  },
  {
   "cell_type": "code",
   "execution_count": null,
   "id": "35a823d5-6917-4619-965d-6a571b7b11cc",
   "metadata": {},
   "outputs": [],
   "source": [
    "users.columns"
   ]
  },
  {
   "cell_type": "code",
   "execution_count": null,
   "id": "35b83662-3f1c-4e0f-bb16-f6ac99d3ded1",
   "metadata": {},
   "outputs": [],
   "source": [
    "def user_data_selection(df, cols):\n",
    "    ldf = df[cols]\n",
    "    ldf = ldf.rename(columns={'id':'USER_ID',\n",
    "                              'username' : 'USER_NAME',\n",
    "                              'age' :'AGE',\n",
    "                              'gender' : 'GENDER',                              \n",
    "                             })\n",
    "    return ldf\n",
    "\n",
    "user_cols = ['id', 'username', 'age', 'gender']\n",
    "\n",
    "users_df = user_data_selection(users, user_cols)    \n",
    "users_df.head(3)"
   ]
  },
  {
   "cell_type": "markdown",
   "id": "e9261103-46f7-4825-87dc-b3dc57335cf7",
   "metadata": {},
   "source": [
    "### Users 데이터 타입 변경"
   ]
  },
  {
   "cell_type": "code",
   "execution_count": null,
   "id": "3daa6f0b-7118-4e0d-8ac1-0d735906457d",
   "metadata": {},
   "outputs": [],
   "source": [
    "users_df.info()"
   ]
  },
  {
   "cell_type": "code",
   "execution_count": null,
   "id": "10a40f0e-2d7c-4f90-94aa-f98555fa2b29",
   "metadata": {},
   "outputs": [],
   "source": [
    "def change_data_type(df, col, target_type):\n",
    "    ldf = df.copy()\n",
    "    ldf[col] = ldf[col].astype(target_type)\n",
    "    \n",
    "    return ldf\n",
    "\n",
    "users_df = change_data_type(users_df, col='USER_ID', target_type='object')\n",
    "users_df.info()"
   ]
  },
  {
   "cell_type": "markdown",
   "id": "4ed5349f-3872-4fed-90f1-eb6ec3cdd4e6",
   "metadata": {},
   "source": [
    "### Interactions 컬럼 조정"
   ]
  },
  {
   "cell_type": "code",
   "execution_count": null,
   "id": "1e297e60-4be8-4956-808f-def6d05d8f5e",
   "metadata": {},
   "outputs": [],
   "source": [
    "its.columns"
   ]
  },
  {
   "cell_type": "code",
   "execution_count": null,
   "id": "a739ecab-b46b-4735-8690-57e6a5b5f461",
   "metadata": {},
   "outputs": [],
   "source": [
    "def interactions_data_selection(df, cols):\n",
    "    ldf = df[cols]\n",
    "    ldf = ldf.rename(columns={'id':'USER_ID',\n",
    "                              'username' : 'USER_NAME',\n",
    "                              'age' :'AGE',\n",
    "                              'gender' : 'GENDER',                              \n",
    "                             })\n",
    "    return ldf\n",
    "\n",
    "interactions_cols = ['ITEM_ID', 'USER_ID', 'EVENT_TYPE', 'TIMESTAMP']\n",
    "\n",
    "full_interactions_df = interactions_data_selection(its, interactions_cols)    \n",
    "full_interactions_df.head(3)"
   ]
  },
  {
   "cell_type": "markdown",
   "id": "5a749716-8999-43b7-9fad-df609d287f39",
   "metadata": {},
   "source": [
    "### Interaction의 EVENT_TYPE 선택\n",
    "\n",
    "여기서 EVENT_TYPE이 ProductViewd, OrderCompleted 만 선택하고 이름을 각각 View, Purchase 로 변경"
   ]
  },
  {
   "cell_type": "code",
   "execution_count": null,
   "id": "748281d6-9f58-4fc3-b86b-74cfedb2238e",
   "metadata": {},
   "outputs": [],
   "source": [
    "full_interactions_df.EVENT_TYPE.value_counts()"
   ]
  },
  {
   "cell_type": "code",
   "execution_count": null,
   "id": "20ca2d73-5ad7-4cf7-8fc5-e536b39b387f",
   "metadata": {},
   "outputs": [],
   "source": [
    "def filter_interactions_data(df, kinds_event_type):\n",
    "    ldf = df[df['EVENT_TYPE'].isin(kinds_event_type)]\n",
    "    ldf['EVENT_TYPE'] = ldf['EVENT_TYPE'].replace(['ProductViewed'],'View')    \n",
    "    ldf['EVENT_TYPE'] = ldf['EVENT_TYPE'].replace(['OrderCompleted'],'Purchase')        \n",
    "    \n",
    "    return ldf\n",
    "\n",
    "select_event_types = ['ProductViewed','OrderCompleted']\n",
    "interactions_df = filter_interactions_data(full_interactions_df, select_event_types)\n",
    "interactions_df"
   ]
  },
  {
   "cell_type": "markdown",
   "id": "06125e9e-18a2-4116-b4cc-d15bda268773",
   "metadata": {},
   "source": [
    "### Interaction 데이터 타입 변경"
   ]
  },
  {
   "cell_type": "code",
   "execution_count": null,
   "id": "218d43d9-c058-446b-824f-03334bcd8413",
   "metadata": {},
   "outputs": [],
   "source": [
    "interactions_df.info()"
   ]
  },
  {
   "cell_type": "code",
   "execution_count": null,
   "id": "b322780f-39be-4f23-9c8a-65a6592e1e62",
   "metadata": {},
   "outputs": [],
   "source": [
    "interactions_df = change_data_type(interactions_df, col='USER_ID', target_type='object')\n",
    "interactions_df.info()"
   ]
  },
  {
   "cell_type": "code",
   "execution_count": null,
   "id": "d7b5e9d9-19d7-4f2f-98e6-db612d006a08",
   "metadata": {},
   "outputs": [],
   "source": []
  }
 ],
 "metadata": {
  "kernelspec": {
   "display_name": "conda_python3",
   "language": "python",
   "name": "conda_python3"
  },
  "language_info": {
   "codemirror_mode": {
    "name": "ipython",
    "version": 3
   },
   "file_extension": ".py",
   "mimetype": "text/x-python",
   "name": "python",
   "nbconvert_exporter": "python",
   "pygments_lexer": "ipython3",
   "version": "3.10.6"
  }
 },
 "nbformat": 4,
 "nbformat_minor": 5
}
